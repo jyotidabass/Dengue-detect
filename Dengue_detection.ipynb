{
  "nbformat": 4,
  "nbformat_minor": 0,
  "metadata": {
    "colab": {
      "provenance": [],
      "authorship_tag": "ABX9TyP5hkd7S4D/qAvM0EvwRE1g",
      "include_colab_link": true
    },
    "kernelspec": {
      "name": "python3",
      "display_name": "Python 3"
    },
    "language_info": {
      "name": "python"
    }
  },
  "cells": [
    {
      "cell_type": "markdown",
      "metadata": {
        "id": "view-in-github",
        "colab_type": "text"
      },
      "source": [
        "<a href=\"https://colab.research.google.com/github/jyotidabass/Dengue-detect/blob/main/Dengue_detection.ipynb\" target=\"_parent\"><img src=\"https://colab.research.google.com/assets/colab-badge.svg\" alt=\"Open In Colab\"/></a>"
      ]
    },
    {
      "cell_type": "code",
      "execution_count": 145,
      "metadata": {
        "colab": {
          "base_uri": "https://localhost:8080/",
          "height": 17
        },
        "id": "p62Xxx8Uei4l",
        "outputId": "763a7c72-4730-45c7-cdef-6765dbaee8b5"
      },
      "outputs": [
        {
          "output_type": "display_data",
          "data": {
            "text/html": [
              "        <script type=\"text/javascript\">\n",
              "        window.PlotlyConfig = {MathJaxConfig: 'local'};\n",
              "        if (window.MathJax) {MathJax.Hub.Config({SVG: {font: \"STIX-Web\"}});}\n",
              "        if (typeof require !== 'undefined') {\n",
              "        require.undef(\"plotly\");\n",
              "        requirejs.config({\n",
              "            paths: {\n",
              "                'plotly': ['https://cdn.plot.ly/plotly-2.8.3.min']\n",
              "            }\n",
              "        });\n",
              "        require(['plotly'], function(Plotly) {\n",
              "            window._Plotly = Plotly;\n",
              "        });\n",
              "        }\n",
              "        </script>\n",
              "        "
            ]
          },
          "metadata": {}
        },
        {
          "output_type": "display_data",
          "data": {
            "text/html": [
              "        <script type=\"text/javascript\">\n",
              "        window.PlotlyConfig = {MathJaxConfig: 'local'};\n",
              "        if (window.MathJax) {MathJax.Hub.Config({SVG: {font: \"STIX-Web\"}});}\n",
              "        if (typeof require !== 'undefined') {\n",
              "        require.undef(\"plotly\");\n",
              "        requirejs.config({\n",
              "            paths: {\n",
              "                'plotly': ['https://cdn.plot.ly/plotly-2.8.3.min']\n",
              "            }\n",
              "        });\n",
              "        require(['plotly'], function(Plotly) {\n",
              "            window._Plotly = Plotly;\n",
              "        });\n",
              "        }\n",
              "        </script>\n",
              "        "
            ]
          },
          "metadata": {}
        }
      ],
      "source": [
        "import pandas as pd\n",
        "import matplotlib.pyplot as plt\n",
        "%matplotlib inline \n",
        "import cufflinks as cf\n",
        "import plotly\n",
        "from plotly.offline import init_notebook_mode,iplot,plot\n",
        "init_notebook_mode(connected=True)\n",
        "cf.go_offline()"
      ]
    },
    {
      "cell_type": "code",
      "source": [
        "df = pd.read_csv('/content/dengue2.csv')"
      ],
      "metadata": {
        "id": "P5nq8pF8etyr"
      },
      "execution_count": 146,
      "outputs": []
    },
    {
      "cell_type": "code",
      "source": [
        "# replacing values\n",
        "df['dengue.severe_headche'].replace(['yes','no'],\n",
        "                        [1,0], inplace=True)\n",
        "df['dengue.pain_behind_the_eyes'].replace(['yes','no'],\n",
        "                        [1,0], inplace=True)\n",
        "df['dengue.joint_muscle_aches'].replace(['yes','no'],\n",
        "                        [1,0], inplace=True)\n",
        "df['dengue.metallic_taste_in_the_mouth'].replace(['yes','no'],\n",
        "                        [1,0], inplace=True)\n",
        "df['dengue.appetite_loss'].replace(['yes','no'],\n",
        "                        [1,0], inplace=True)\n",
        "df['dengue.addominal_pain'].replace(['yes','no'],\n",
        "                        [1,0], inplace=True)\n",
        "df['dengue.nausea_vomiting'].replace(['yes','no'],\n",
        "                        [1,0], inplace=True)\n",
        "df['dengue.diarrhoea'].replace(['yes','no'],\n",
        "                        [1,0], inplace=True)\n",
        "df"
      ],
      "metadata": {
        "colab": {
          "base_uri": "https://localhost:8080/",
          "height": 488
        },
        "id": "s1tcqoFofCKt",
        "outputId": "a885e4a0-7a93-451b-dde8-6d7a44677592"
      },
      "execution_count": 147,
      "outputs": [
        {
          "output_type": "execute_result",
          "data": {
            "text/plain": [
              "     dengue.current_temp  dengue.wbc  dengue.severe_headche  \\\n",
              "0                  100.0         5.0                      1   \n",
              "1                  104.0         1.0                      0   \n",
              "2                  104.0         5.0                      1   \n",
              "3                  101.0         0.0                      1   \n",
              "4                  101.0         0.0                      1   \n",
              "..                   ...         ...                    ...   \n",
              "103                103.5         2.2                      1   \n",
              "104                103.0         0.0                      1   \n",
              "105                101.0         0.0                      1   \n",
              "106                105.0         0.0                      1   \n",
              "107                  0.0         5.0                      1   \n",
              "\n",
              "     dengue.pain_behind_the_eyes  dengue.joint_muscle_aches  \\\n",
              "0                              0                          0   \n",
              "1                              1                          1   \n",
              "2                              0                          0   \n",
              "3                              1                          0   \n",
              "4                              0                          0   \n",
              "..                           ...                        ...   \n",
              "103                            1                          0   \n",
              "104                            1                          1   \n",
              "105                            0                          1   \n",
              "106                            0                          1   \n",
              "107                            0                          1   \n",
              "\n",
              "     dengue.metallic_taste_in_the_mouth  dengue.appetite_loss  \\\n",
              "0                                     1                     1   \n",
              "1                                     0                     0   \n",
              "2                                     1                     1   \n",
              "3                                     0                     0   \n",
              "4                                     0                     0   \n",
              "..                                  ...                   ...   \n",
              "103                                   1                     0   \n",
              "104                                   0                     0   \n",
              "105                                   0                     0   \n",
              "106                                   0                     1   \n",
              "107                                   0                     0   \n",
              "\n",
              "     dengue.addominal_pain  dengue.nausea_vomiting  dengue.diarrhoea  \\\n",
              "0                        1                       0                 1   \n",
              "1                        0                       0                 0   \n",
              "2                        1                       1                 0   \n",
              "3                        0                       0                 0   \n",
              "4                        0                       1                 0   \n",
              "..                     ...                     ...               ...   \n",
              "103                      0                       0                 0   \n",
              "104                      0                       0                 0   \n",
              "105                      1                       0                 0   \n",
              "106                      0                       1                 0   \n",
              "107                      0                       1                 0   \n",
              "\n",
              "     dengue.hemoglobin  dengue._hematocri  dengue.platelet dengue.dengue  \n",
              "0                 15.0                  0              140           yes  \n",
              "1                  9.0                 22               80            no  \n",
              "2                  0.0                  0              120           yes  \n",
              "3                  0.0                  0                0            no  \n",
              "4                  0.0                  0                0            no  \n",
              "..                 ...                ...              ...           ...  \n",
              "103               10.0                 25              110           yes  \n",
              "104                0.0                  0                0           yes  \n",
              "105                0.0                  0                0           yes  \n",
              "106                0.0                  0                0           yes  \n",
              "107                8.6                 23               90           yes  \n",
              "\n",
              "[108 rows x 14 columns]"
            ],
            "text/html": [
              "\n",
              "  <div id=\"df-bbd13c57-3ac2-4896-a983-f7892a391d0e\">\n",
              "    <div class=\"colab-df-container\">\n",
              "      <div>\n",
              "<style scoped>\n",
              "    .dataframe tbody tr th:only-of-type {\n",
              "        vertical-align: middle;\n",
              "    }\n",
              "\n",
              "    .dataframe tbody tr th {\n",
              "        vertical-align: top;\n",
              "    }\n",
              "\n",
              "    .dataframe thead th {\n",
              "        text-align: right;\n",
              "    }\n",
              "</style>\n",
              "<table border=\"1\" class=\"dataframe\">\n",
              "  <thead>\n",
              "    <tr style=\"text-align: right;\">\n",
              "      <th></th>\n",
              "      <th>dengue.current_temp</th>\n",
              "      <th>dengue.wbc</th>\n",
              "      <th>dengue.severe_headche</th>\n",
              "      <th>dengue.pain_behind_the_eyes</th>\n",
              "      <th>dengue.joint_muscle_aches</th>\n",
              "      <th>dengue.metallic_taste_in_the_mouth</th>\n",
              "      <th>dengue.appetite_loss</th>\n",
              "      <th>dengue.addominal_pain</th>\n",
              "      <th>dengue.nausea_vomiting</th>\n",
              "      <th>dengue.diarrhoea</th>\n",
              "      <th>dengue.hemoglobin</th>\n",
              "      <th>dengue._hematocri</th>\n",
              "      <th>dengue.platelet</th>\n",
              "      <th>dengue.dengue</th>\n",
              "    </tr>\n",
              "  </thead>\n",
              "  <tbody>\n",
              "    <tr>\n",
              "      <th>0</th>\n",
              "      <td>100.0</td>\n",
              "      <td>5.0</td>\n",
              "      <td>1</td>\n",
              "      <td>0</td>\n",
              "      <td>0</td>\n",
              "      <td>1</td>\n",
              "      <td>1</td>\n",
              "      <td>1</td>\n",
              "      <td>0</td>\n",
              "      <td>1</td>\n",
              "      <td>15.0</td>\n",
              "      <td>0</td>\n",
              "      <td>140</td>\n",
              "      <td>yes</td>\n",
              "    </tr>\n",
              "    <tr>\n",
              "      <th>1</th>\n",
              "      <td>104.0</td>\n",
              "      <td>1.0</td>\n",
              "      <td>0</td>\n",
              "      <td>1</td>\n",
              "      <td>1</td>\n",
              "      <td>0</td>\n",
              "      <td>0</td>\n",
              "      <td>0</td>\n",
              "      <td>0</td>\n",
              "      <td>0</td>\n",
              "      <td>9.0</td>\n",
              "      <td>22</td>\n",
              "      <td>80</td>\n",
              "      <td>no</td>\n",
              "    </tr>\n",
              "    <tr>\n",
              "      <th>2</th>\n",
              "      <td>104.0</td>\n",
              "      <td>5.0</td>\n",
              "      <td>1</td>\n",
              "      <td>0</td>\n",
              "      <td>0</td>\n",
              "      <td>1</td>\n",
              "      <td>1</td>\n",
              "      <td>1</td>\n",
              "      <td>1</td>\n",
              "      <td>0</td>\n",
              "      <td>0.0</td>\n",
              "      <td>0</td>\n",
              "      <td>120</td>\n",
              "      <td>yes</td>\n",
              "    </tr>\n",
              "    <tr>\n",
              "      <th>3</th>\n",
              "      <td>101.0</td>\n",
              "      <td>0.0</td>\n",
              "      <td>1</td>\n",
              "      <td>1</td>\n",
              "      <td>0</td>\n",
              "      <td>0</td>\n",
              "      <td>0</td>\n",
              "      <td>0</td>\n",
              "      <td>0</td>\n",
              "      <td>0</td>\n",
              "      <td>0.0</td>\n",
              "      <td>0</td>\n",
              "      <td>0</td>\n",
              "      <td>no</td>\n",
              "    </tr>\n",
              "    <tr>\n",
              "      <th>4</th>\n",
              "      <td>101.0</td>\n",
              "      <td>0.0</td>\n",
              "      <td>1</td>\n",
              "      <td>0</td>\n",
              "      <td>0</td>\n",
              "      <td>0</td>\n",
              "      <td>0</td>\n",
              "      <td>0</td>\n",
              "      <td>1</td>\n",
              "      <td>0</td>\n",
              "      <td>0.0</td>\n",
              "      <td>0</td>\n",
              "      <td>0</td>\n",
              "      <td>no</td>\n",
              "    </tr>\n",
              "    <tr>\n",
              "      <th>...</th>\n",
              "      <td>...</td>\n",
              "      <td>...</td>\n",
              "      <td>...</td>\n",
              "      <td>...</td>\n",
              "      <td>...</td>\n",
              "      <td>...</td>\n",
              "      <td>...</td>\n",
              "      <td>...</td>\n",
              "      <td>...</td>\n",
              "      <td>...</td>\n",
              "      <td>...</td>\n",
              "      <td>...</td>\n",
              "      <td>...</td>\n",
              "      <td>...</td>\n",
              "    </tr>\n",
              "    <tr>\n",
              "      <th>103</th>\n",
              "      <td>103.5</td>\n",
              "      <td>2.2</td>\n",
              "      <td>1</td>\n",
              "      <td>1</td>\n",
              "      <td>0</td>\n",
              "      <td>1</td>\n",
              "      <td>0</td>\n",
              "      <td>0</td>\n",
              "      <td>0</td>\n",
              "      <td>0</td>\n",
              "      <td>10.0</td>\n",
              "      <td>25</td>\n",
              "      <td>110</td>\n",
              "      <td>yes</td>\n",
              "    </tr>\n",
              "    <tr>\n",
              "      <th>104</th>\n",
              "      <td>103.0</td>\n",
              "      <td>0.0</td>\n",
              "      <td>1</td>\n",
              "      <td>1</td>\n",
              "      <td>1</td>\n",
              "      <td>0</td>\n",
              "      <td>0</td>\n",
              "      <td>0</td>\n",
              "      <td>0</td>\n",
              "      <td>0</td>\n",
              "      <td>0.0</td>\n",
              "      <td>0</td>\n",
              "      <td>0</td>\n",
              "      <td>yes</td>\n",
              "    </tr>\n",
              "    <tr>\n",
              "      <th>105</th>\n",
              "      <td>101.0</td>\n",
              "      <td>0.0</td>\n",
              "      <td>1</td>\n",
              "      <td>0</td>\n",
              "      <td>1</td>\n",
              "      <td>0</td>\n",
              "      <td>0</td>\n",
              "      <td>1</td>\n",
              "      <td>0</td>\n",
              "      <td>0</td>\n",
              "      <td>0.0</td>\n",
              "      <td>0</td>\n",
              "      <td>0</td>\n",
              "      <td>yes</td>\n",
              "    </tr>\n",
              "    <tr>\n",
              "      <th>106</th>\n",
              "      <td>105.0</td>\n",
              "      <td>0.0</td>\n",
              "      <td>1</td>\n",
              "      <td>0</td>\n",
              "      <td>1</td>\n",
              "      <td>0</td>\n",
              "      <td>1</td>\n",
              "      <td>0</td>\n",
              "      <td>1</td>\n",
              "      <td>0</td>\n",
              "      <td>0.0</td>\n",
              "      <td>0</td>\n",
              "      <td>0</td>\n",
              "      <td>yes</td>\n",
              "    </tr>\n",
              "    <tr>\n",
              "      <th>107</th>\n",
              "      <td>0.0</td>\n",
              "      <td>5.0</td>\n",
              "      <td>1</td>\n",
              "      <td>0</td>\n",
              "      <td>1</td>\n",
              "      <td>0</td>\n",
              "      <td>0</td>\n",
              "      <td>0</td>\n",
              "      <td>1</td>\n",
              "      <td>0</td>\n",
              "      <td>8.6</td>\n",
              "      <td>23</td>\n",
              "      <td>90</td>\n",
              "      <td>yes</td>\n",
              "    </tr>\n",
              "  </tbody>\n",
              "</table>\n",
              "<p>108 rows × 14 columns</p>\n",
              "</div>\n",
              "      <button class=\"colab-df-convert\" onclick=\"convertToInteractive('df-bbd13c57-3ac2-4896-a983-f7892a391d0e')\"\n",
              "              title=\"Convert this dataframe to an interactive table.\"\n",
              "              style=\"display:none;\">\n",
              "        \n",
              "  <svg xmlns=\"http://www.w3.org/2000/svg\" height=\"24px\"viewBox=\"0 0 24 24\"\n",
              "       width=\"24px\">\n",
              "    <path d=\"M0 0h24v24H0V0z\" fill=\"none\"/>\n",
              "    <path d=\"M18.56 5.44l.94 2.06.94-2.06 2.06-.94-2.06-.94-.94-2.06-.94 2.06-2.06.94zm-11 1L8.5 8.5l.94-2.06 2.06-.94-2.06-.94L8.5 2.5l-.94 2.06-2.06.94zm10 10l.94 2.06.94-2.06 2.06-.94-2.06-.94-.94-2.06-.94 2.06-2.06.94z\"/><path d=\"M17.41 7.96l-1.37-1.37c-.4-.4-.92-.59-1.43-.59-.52 0-1.04.2-1.43.59L10.3 9.45l-7.72 7.72c-.78.78-.78 2.05 0 2.83L4 21.41c.39.39.9.59 1.41.59.51 0 1.02-.2 1.41-.59l7.78-7.78 2.81-2.81c.8-.78.8-2.07 0-2.86zM5.41 20L4 18.59l7.72-7.72 1.47 1.35L5.41 20z\"/>\n",
              "  </svg>\n",
              "      </button>\n",
              "      \n",
              "  <style>\n",
              "    .colab-df-container {\n",
              "      display:flex;\n",
              "      flex-wrap:wrap;\n",
              "      gap: 12px;\n",
              "    }\n",
              "\n",
              "    .colab-df-convert {\n",
              "      background-color: #E8F0FE;\n",
              "      border: none;\n",
              "      border-radius: 50%;\n",
              "      cursor: pointer;\n",
              "      display: none;\n",
              "      fill: #1967D2;\n",
              "      height: 32px;\n",
              "      padding: 0 0 0 0;\n",
              "      width: 32px;\n",
              "    }\n",
              "\n",
              "    .colab-df-convert:hover {\n",
              "      background-color: #E2EBFA;\n",
              "      box-shadow: 0px 1px 2px rgba(60, 64, 67, 0.3), 0px 1px 3px 1px rgba(60, 64, 67, 0.15);\n",
              "      fill: #174EA6;\n",
              "    }\n",
              "\n",
              "    [theme=dark] .colab-df-convert {\n",
              "      background-color: #3B4455;\n",
              "      fill: #D2E3FC;\n",
              "    }\n",
              "\n",
              "    [theme=dark] .colab-df-convert:hover {\n",
              "      background-color: #434B5C;\n",
              "      box-shadow: 0px 1px 3px 1px rgba(0, 0, 0, 0.15);\n",
              "      filter: drop-shadow(0px 1px 2px rgba(0, 0, 0, 0.3));\n",
              "      fill: #FFFFFF;\n",
              "    }\n",
              "  </style>\n",
              "\n",
              "      <script>\n",
              "        const buttonEl =\n",
              "          document.querySelector('#df-bbd13c57-3ac2-4896-a983-f7892a391d0e button.colab-df-convert');\n",
              "        buttonEl.style.display =\n",
              "          google.colab.kernel.accessAllowed ? 'block' : 'none';\n",
              "\n",
              "        async function convertToInteractive(key) {\n",
              "          const element = document.querySelector('#df-bbd13c57-3ac2-4896-a983-f7892a391d0e');\n",
              "          const dataTable =\n",
              "            await google.colab.kernel.invokeFunction('convertToInteractive',\n",
              "                                                     [key], {});\n",
              "          if (!dataTable) return;\n",
              "\n",
              "          const docLinkHtml = 'Like what you see? Visit the ' +\n",
              "            '<a target=\"_blank\" href=https://colab.research.google.com/notebooks/data_table.ipynb>data table notebook</a>'\n",
              "            + ' to learn more about interactive tables.';\n",
              "          element.innerHTML = '';\n",
              "          dataTable['output_type'] = 'display_data';\n",
              "          await google.colab.output.renderOutput(dataTable, element);\n",
              "          const docLink = document.createElement('div');\n",
              "          docLink.innerHTML = docLinkHtml;\n",
              "          element.appendChild(docLink);\n",
              "        }\n",
              "      </script>\n",
              "    </div>\n",
              "  </div>\n",
              "  "
            ]
          },
          "metadata": {},
          "execution_count": 147
        }
      ]
    },
    {
      "cell_type": "code",
      "source": [
        "df.head()"
      ],
      "metadata": {
        "colab": {
          "base_uri": "https://localhost:8080/",
          "height": 270
        },
        "id": "u75PQoiqic3r",
        "outputId": "886ccf53-d6b1-4ffa-8c3f-2fe02bd540cc"
      },
      "execution_count": 148,
      "outputs": [
        {
          "output_type": "execute_result",
          "data": {
            "text/plain": [
              "   dengue.current_temp  dengue.wbc  dengue.severe_headche  \\\n",
              "0                100.0         5.0                      1   \n",
              "1                104.0         1.0                      0   \n",
              "2                104.0         5.0                      1   \n",
              "3                101.0         0.0                      1   \n",
              "4                101.0         0.0                      1   \n",
              "\n",
              "   dengue.pain_behind_the_eyes  dengue.joint_muscle_aches  \\\n",
              "0                            0                          0   \n",
              "1                            1                          1   \n",
              "2                            0                          0   \n",
              "3                            1                          0   \n",
              "4                            0                          0   \n",
              "\n",
              "   dengue.metallic_taste_in_the_mouth  dengue.appetite_loss  \\\n",
              "0                                   1                     1   \n",
              "1                                   0                     0   \n",
              "2                                   1                     1   \n",
              "3                                   0                     0   \n",
              "4                                   0                     0   \n",
              "\n",
              "   dengue.addominal_pain  dengue.nausea_vomiting  dengue.diarrhoea  \\\n",
              "0                      1                       0                 1   \n",
              "1                      0                       0                 0   \n",
              "2                      1                       1                 0   \n",
              "3                      0                       0                 0   \n",
              "4                      0                       1                 0   \n",
              "\n",
              "   dengue.hemoglobin  dengue._hematocri  dengue.platelet dengue.dengue  \n",
              "0               15.0                  0              140           yes  \n",
              "1                9.0                 22               80            no  \n",
              "2                0.0                  0              120           yes  \n",
              "3                0.0                  0                0            no  \n",
              "4                0.0                  0                0            no  "
            ],
            "text/html": [
              "\n",
              "  <div id=\"df-b829aff7-a6d0-4765-a18e-af0125037a59\">\n",
              "    <div class=\"colab-df-container\">\n",
              "      <div>\n",
              "<style scoped>\n",
              "    .dataframe tbody tr th:only-of-type {\n",
              "        vertical-align: middle;\n",
              "    }\n",
              "\n",
              "    .dataframe tbody tr th {\n",
              "        vertical-align: top;\n",
              "    }\n",
              "\n",
              "    .dataframe thead th {\n",
              "        text-align: right;\n",
              "    }\n",
              "</style>\n",
              "<table border=\"1\" class=\"dataframe\">\n",
              "  <thead>\n",
              "    <tr style=\"text-align: right;\">\n",
              "      <th></th>\n",
              "      <th>dengue.current_temp</th>\n",
              "      <th>dengue.wbc</th>\n",
              "      <th>dengue.severe_headche</th>\n",
              "      <th>dengue.pain_behind_the_eyes</th>\n",
              "      <th>dengue.joint_muscle_aches</th>\n",
              "      <th>dengue.metallic_taste_in_the_mouth</th>\n",
              "      <th>dengue.appetite_loss</th>\n",
              "      <th>dengue.addominal_pain</th>\n",
              "      <th>dengue.nausea_vomiting</th>\n",
              "      <th>dengue.diarrhoea</th>\n",
              "      <th>dengue.hemoglobin</th>\n",
              "      <th>dengue._hematocri</th>\n",
              "      <th>dengue.platelet</th>\n",
              "      <th>dengue.dengue</th>\n",
              "    </tr>\n",
              "  </thead>\n",
              "  <tbody>\n",
              "    <tr>\n",
              "      <th>0</th>\n",
              "      <td>100.0</td>\n",
              "      <td>5.0</td>\n",
              "      <td>1</td>\n",
              "      <td>0</td>\n",
              "      <td>0</td>\n",
              "      <td>1</td>\n",
              "      <td>1</td>\n",
              "      <td>1</td>\n",
              "      <td>0</td>\n",
              "      <td>1</td>\n",
              "      <td>15.0</td>\n",
              "      <td>0</td>\n",
              "      <td>140</td>\n",
              "      <td>yes</td>\n",
              "    </tr>\n",
              "    <tr>\n",
              "      <th>1</th>\n",
              "      <td>104.0</td>\n",
              "      <td>1.0</td>\n",
              "      <td>0</td>\n",
              "      <td>1</td>\n",
              "      <td>1</td>\n",
              "      <td>0</td>\n",
              "      <td>0</td>\n",
              "      <td>0</td>\n",
              "      <td>0</td>\n",
              "      <td>0</td>\n",
              "      <td>9.0</td>\n",
              "      <td>22</td>\n",
              "      <td>80</td>\n",
              "      <td>no</td>\n",
              "    </tr>\n",
              "    <tr>\n",
              "      <th>2</th>\n",
              "      <td>104.0</td>\n",
              "      <td>5.0</td>\n",
              "      <td>1</td>\n",
              "      <td>0</td>\n",
              "      <td>0</td>\n",
              "      <td>1</td>\n",
              "      <td>1</td>\n",
              "      <td>1</td>\n",
              "      <td>1</td>\n",
              "      <td>0</td>\n",
              "      <td>0.0</td>\n",
              "      <td>0</td>\n",
              "      <td>120</td>\n",
              "      <td>yes</td>\n",
              "    </tr>\n",
              "    <tr>\n",
              "      <th>3</th>\n",
              "      <td>101.0</td>\n",
              "      <td>0.0</td>\n",
              "      <td>1</td>\n",
              "      <td>1</td>\n",
              "      <td>0</td>\n",
              "      <td>0</td>\n",
              "      <td>0</td>\n",
              "      <td>0</td>\n",
              "      <td>0</td>\n",
              "      <td>0</td>\n",
              "      <td>0.0</td>\n",
              "      <td>0</td>\n",
              "      <td>0</td>\n",
              "      <td>no</td>\n",
              "    </tr>\n",
              "    <tr>\n",
              "      <th>4</th>\n",
              "      <td>101.0</td>\n",
              "      <td>0.0</td>\n",
              "      <td>1</td>\n",
              "      <td>0</td>\n",
              "      <td>0</td>\n",
              "      <td>0</td>\n",
              "      <td>0</td>\n",
              "      <td>0</td>\n",
              "      <td>1</td>\n",
              "      <td>0</td>\n",
              "      <td>0.0</td>\n",
              "      <td>0</td>\n",
              "      <td>0</td>\n",
              "      <td>no</td>\n",
              "    </tr>\n",
              "  </tbody>\n",
              "</table>\n",
              "</div>\n",
              "      <button class=\"colab-df-convert\" onclick=\"convertToInteractive('df-b829aff7-a6d0-4765-a18e-af0125037a59')\"\n",
              "              title=\"Convert this dataframe to an interactive table.\"\n",
              "              style=\"display:none;\">\n",
              "        \n",
              "  <svg xmlns=\"http://www.w3.org/2000/svg\" height=\"24px\"viewBox=\"0 0 24 24\"\n",
              "       width=\"24px\">\n",
              "    <path d=\"M0 0h24v24H0V0z\" fill=\"none\"/>\n",
              "    <path d=\"M18.56 5.44l.94 2.06.94-2.06 2.06-.94-2.06-.94-.94-2.06-.94 2.06-2.06.94zm-11 1L8.5 8.5l.94-2.06 2.06-.94-2.06-.94L8.5 2.5l-.94 2.06-2.06.94zm10 10l.94 2.06.94-2.06 2.06-.94-2.06-.94-.94-2.06-.94 2.06-2.06.94z\"/><path d=\"M17.41 7.96l-1.37-1.37c-.4-.4-.92-.59-1.43-.59-.52 0-1.04.2-1.43.59L10.3 9.45l-7.72 7.72c-.78.78-.78 2.05 0 2.83L4 21.41c.39.39.9.59 1.41.59.51 0 1.02-.2 1.41-.59l7.78-7.78 2.81-2.81c.8-.78.8-2.07 0-2.86zM5.41 20L4 18.59l7.72-7.72 1.47 1.35L5.41 20z\"/>\n",
              "  </svg>\n",
              "      </button>\n",
              "      \n",
              "  <style>\n",
              "    .colab-df-container {\n",
              "      display:flex;\n",
              "      flex-wrap:wrap;\n",
              "      gap: 12px;\n",
              "    }\n",
              "\n",
              "    .colab-df-convert {\n",
              "      background-color: #E8F0FE;\n",
              "      border: none;\n",
              "      border-radius: 50%;\n",
              "      cursor: pointer;\n",
              "      display: none;\n",
              "      fill: #1967D2;\n",
              "      height: 32px;\n",
              "      padding: 0 0 0 0;\n",
              "      width: 32px;\n",
              "    }\n",
              "\n",
              "    .colab-df-convert:hover {\n",
              "      background-color: #E2EBFA;\n",
              "      box-shadow: 0px 1px 2px rgba(60, 64, 67, 0.3), 0px 1px 3px 1px rgba(60, 64, 67, 0.15);\n",
              "      fill: #174EA6;\n",
              "    }\n",
              "\n",
              "    [theme=dark] .colab-df-convert {\n",
              "      background-color: #3B4455;\n",
              "      fill: #D2E3FC;\n",
              "    }\n",
              "\n",
              "    [theme=dark] .colab-df-convert:hover {\n",
              "      background-color: #434B5C;\n",
              "      box-shadow: 0px 1px 3px 1px rgba(0, 0, 0, 0.15);\n",
              "      filter: drop-shadow(0px 1px 2px rgba(0, 0, 0, 0.3));\n",
              "      fill: #FFFFFF;\n",
              "    }\n",
              "  </style>\n",
              "\n",
              "      <script>\n",
              "        const buttonEl =\n",
              "          document.querySelector('#df-b829aff7-a6d0-4765-a18e-af0125037a59 button.colab-df-convert');\n",
              "        buttonEl.style.display =\n",
              "          google.colab.kernel.accessAllowed ? 'block' : 'none';\n",
              "\n",
              "        async function convertToInteractive(key) {\n",
              "          const element = document.querySelector('#df-b829aff7-a6d0-4765-a18e-af0125037a59');\n",
              "          const dataTable =\n",
              "            await google.colab.kernel.invokeFunction('convertToInteractive',\n",
              "                                                     [key], {});\n",
              "          if (!dataTable) return;\n",
              "\n",
              "          const docLinkHtml = 'Like what you see? Visit the ' +\n",
              "            '<a target=\"_blank\" href=https://colab.research.google.com/notebooks/data_table.ipynb>data table notebook</a>'\n",
              "            + ' to learn more about interactive tables.';\n",
              "          element.innerHTML = '';\n",
              "          dataTable['output_type'] = 'display_data';\n",
              "          await google.colab.output.renderOutput(dataTable, element);\n",
              "          const docLink = document.createElement('div');\n",
              "          docLink.innerHTML = docLinkHtml;\n",
              "          element.appendChild(docLink);\n",
              "        }\n",
              "      </script>\n",
              "    </div>\n",
              "  </div>\n",
              "  "
            ]
          },
          "metadata": {},
          "execution_count": 148
        }
      ]
    },
    {
      "cell_type": "code",
      "source": [
        "df.info()"
      ],
      "metadata": {
        "colab": {
          "base_uri": "https://localhost:8080/"
        },
        "id": "q_ZRRjNnihxQ",
        "outputId": "a8c566a7-dbac-4371-db0d-7ad61a64b248"
      },
      "execution_count": 149,
      "outputs": [
        {
          "output_type": "stream",
          "name": "stdout",
          "text": [
            "<class 'pandas.core.frame.DataFrame'>\n",
            "RangeIndex: 108 entries, 0 to 107\n",
            "Data columns (total 14 columns):\n",
            " #   Column                              Non-Null Count  Dtype  \n",
            "---  ------                              --------------  -----  \n",
            " 0   dengue.current_temp                 108 non-null    float64\n",
            " 1   dengue.wbc                          108 non-null    float64\n",
            " 2   dengue.severe_headche               108 non-null    int64  \n",
            " 3   dengue.pain_behind_the_eyes         108 non-null    int64  \n",
            " 4   dengue.joint_muscle_aches           108 non-null    int64  \n",
            " 5   dengue.metallic_taste_in_the_mouth  108 non-null    int64  \n",
            " 6   dengue.appetite_loss                108 non-null    int64  \n",
            " 7   dengue.addominal_pain               108 non-null    int64  \n",
            " 8   dengue.nausea_vomiting              108 non-null    int64  \n",
            " 9   dengue.diarrhoea                    108 non-null    int64  \n",
            " 10  dengue.hemoglobin                   108 non-null    float64\n",
            " 11  dengue._hematocri                   108 non-null    int64  \n",
            " 12  dengue.platelet                     108 non-null    int64  \n",
            " 13  dengue.dengue                       108 non-null    object \n",
            "dtypes: float64(3), int64(10), object(1)\n",
            "memory usage: 11.9+ KB\n"
          ]
        }
      ]
    },
    {
      "cell_type": "code",
      "source": [
        "df['dengue.dengue']"
      ],
      "metadata": {
        "colab": {
          "base_uri": "https://localhost:8080/"
        },
        "id": "uKYoDD-hij6t",
        "outputId": "57bc4c99-16f3-4e2f-9748-4fbd9ad9d502"
      },
      "execution_count": 150,
      "outputs": [
        {
          "output_type": "execute_result",
          "data": {
            "text/plain": [
              "0      yes\n",
              "1       no\n",
              "2      yes\n",
              "3       no\n",
              "4       no\n",
              "      ... \n",
              "103    yes\n",
              "104    yes\n",
              "105    yes\n",
              "106    yes\n",
              "107    yes\n",
              "Name: dengue.dengue, Length: 108, dtype: object"
            ]
          },
          "metadata": {},
          "execution_count": 150
        }
      ]
    },
    {
      "cell_type": "code",
      "source": [
        "df['dengue.dengue'].replace('yes','1',inplace=True)\n",
        "df['dengue.dengue'].replace('no','0',inplace=True)"
      ],
      "metadata": {
        "id": "ER_TQpVOivG7"
      },
      "execution_count": 151,
      "outputs": []
    },
    {
      "cell_type": "code",
      "source": [
        "df.head()"
      ],
      "metadata": {
        "colab": {
          "base_uri": "https://localhost:8080/",
          "height": 270
        },
        "id": "hieqo1ZIjCvc",
        "outputId": "6fe41dd7-b856-437a-aae6-3d198c2b5850"
      },
      "execution_count": 152,
      "outputs": [
        {
          "output_type": "execute_result",
          "data": {
            "text/plain": [
              "   dengue.current_temp  dengue.wbc  dengue.severe_headche  \\\n",
              "0                100.0         5.0                      1   \n",
              "1                104.0         1.0                      0   \n",
              "2                104.0         5.0                      1   \n",
              "3                101.0         0.0                      1   \n",
              "4                101.0         0.0                      1   \n",
              "\n",
              "   dengue.pain_behind_the_eyes  dengue.joint_muscle_aches  \\\n",
              "0                            0                          0   \n",
              "1                            1                          1   \n",
              "2                            0                          0   \n",
              "3                            1                          0   \n",
              "4                            0                          0   \n",
              "\n",
              "   dengue.metallic_taste_in_the_mouth  dengue.appetite_loss  \\\n",
              "0                                   1                     1   \n",
              "1                                   0                     0   \n",
              "2                                   1                     1   \n",
              "3                                   0                     0   \n",
              "4                                   0                     0   \n",
              "\n",
              "   dengue.addominal_pain  dengue.nausea_vomiting  dengue.diarrhoea  \\\n",
              "0                      1                       0                 1   \n",
              "1                      0                       0                 0   \n",
              "2                      1                       1                 0   \n",
              "3                      0                       0                 0   \n",
              "4                      0                       1                 0   \n",
              "\n",
              "   dengue.hemoglobin  dengue._hematocri  dengue.platelet dengue.dengue  \n",
              "0               15.0                  0              140             1  \n",
              "1                9.0                 22               80             0  \n",
              "2                0.0                  0              120             1  \n",
              "3                0.0                  0                0             0  \n",
              "4                0.0                  0                0             0  "
            ],
            "text/html": [
              "\n",
              "  <div id=\"df-28ec63b4-6f10-47ff-97b1-5062c1014e63\">\n",
              "    <div class=\"colab-df-container\">\n",
              "      <div>\n",
              "<style scoped>\n",
              "    .dataframe tbody tr th:only-of-type {\n",
              "        vertical-align: middle;\n",
              "    }\n",
              "\n",
              "    .dataframe tbody tr th {\n",
              "        vertical-align: top;\n",
              "    }\n",
              "\n",
              "    .dataframe thead th {\n",
              "        text-align: right;\n",
              "    }\n",
              "</style>\n",
              "<table border=\"1\" class=\"dataframe\">\n",
              "  <thead>\n",
              "    <tr style=\"text-align: right;\">\n",
              "      <th></th>\n",
              "      <th>dengue.current_temp</th>\n",
              "      <th>dengue.wbc</th>\n",
              "      <th>dengue.severe_headche</th>\n",
              "      <th>dengue.pain_behind_the_eyes</th>\n",
              "      <th>dengue.joint_muscle_aches</th>\n",
              "      <th>dengue.metallic_taste_in_the_mouth</th>\n",
              "      <th>dengue.appetite_loss</th>\n",
              "      <th>dengue.addominal_pain</th>\n",
              "      <th>dengue.nausea_vomiting</th>\n",
              "      <th>dengue.diarrhoea</th>\n",
              "      <th>dengue.hemoglobin</th>\n",
              "      <th>dengue._hematocri</th>\n",
              "      <th>dengue.platelet</th>\n",
              "      <th>dengue.dengue</th>\n",
              "    </tr>\n",
              "  </thead>\n",
              "  <tbody>\n",
              "    <tr>\n",
              "      <th>0</th>\n",
              "      <td>100.0</td>\n",
              "      <td>5.0</td>\n",
              "      <td>1</td>\n",
              "      <td>0</td>\n",
              "      <td>0</td>\n",
              "      <td>1</td>\n",
              "      <td>1</td>\n",
              "      <td>1</td>\n",
              "      <td>0</td>\n",
              "      <td>1</td>\n",
              "      <td>15.0</td>\n",
              "      <td>0</td>\n",
              "      <td>140</td>\n",
              "      <td>1</td>\n",
              "    </tr>\n",
              "    <tr>\n",
              "      <th>1</th>\n",
              "      <td>104.0</td>\n",
              "      <td>1.0</td>\n",
              "      <td>0</td>\n",
              "      <td>1</td>\n",
              "      <td>1</td>\n",
              "      <td>0</td>\n",
              "      <td>0</td>\n",
              "      <td>0</td>\n",
              "      <td>0</td>\n",
              "      <td>0</td>\n",
              "      <td>9.0</td>\n",
              "      <td>22</td>\n",
              "      <td>80</td>\n",
              "      <td>0</td>\n",
              "    </tr>\n",
              "    <tr>\n",
              "      <th>2</th>\n",
              "      <td>104.0</td>\n",
              "      <td>5.0</td>\n",
              "      <td>1</td>\n",
              "      <td>0</td>\n",
              "      <td>0</td>\n",
              "      <td>1</td>\n",
              "      <td>1</td>\n",
              "      <td>1</td>\n",
              "      <td>1</td>\n",
              "      <td>0</td>\n",
              "      <td>0.0</td>\n",
              "      <td>0</td>\n",
              "      <td>120</td>\n",
              "      <td>1</td>\n",
              "    </tr>\n",
              "    <tr>\n",
              "      <th>3</th>\n",
              "      <td>101.0</td>\n",
              "      <td>0.0</td>\n",
              "      <td>1</td>\n",
              "      <td>1</td>\n",
              "      <td>0</td>\n",
              "      <td>0</td>\n",
              "      <td>0</td>\n",
              "      <td>0</td>\n",
              "      <td>0</td>\n",
              "      <td>0</td>\n",
              "      <td>0.0</td>\n",
              "      <td>0</td>\n",
              "      <td>0</td>\n",
              "      <td>0</td>\n",
              "    </tr>\n",
              "    <tr>\n",
              "      <th>4</th>\n",
              "      <td>101.0</td>\n",
              "      <td>0.0</td>\n",
              "      <td>1</td>\n",
              "      <td>0</td>\n",
              "      <td>0</td>\n",
              "      <td>0</td>\n",
              "      <td>0</td>\n",
              "      <td>0</td>\n",
              "      <td>1</td>\n",
              "      <td>0</td>\n",
              "      <td>0.0</td>\n",
              "      <td>0</td>\n",
              "      <td>0</td>\n",
              "      <td>0</td>\n",
              "    </tr>\n",
              "  </tbody>\n",
              "</table>\n",
              "</div>\n",
              "      <button class=\"colab-df-convert\" onclick=\"convertToInteractive('df-28ec63b4-6f10-47ff-97b1-5062c1014e63')\"\n",
              "              title=\"Convert this dataframe to an interactive table.\"\n",
              "              style=\"display:none;\">\n",
              "        \n",
              "  <svg xmlns=\"http://www.w3.org/2000/svg\" height=\"24px\"viewBox=\"0 0 24 24\"\n",
              "       width=\"24px\">\n",
              "    <path d=\"M0 0h24v24H0V0z\" fill=\"none\"/>\n",
              "    <path d=\"M18.56 5.44l.94 2.06.94-2.06 2.06-.94-2.06-.94-.94-2.06-.94 2.06-2.06.94zm-11 1L8.5 8.5l.94-2.06 2.06-.94-2.06-.94L8.5 2.5l-.94 2.06-2.06.94zm10 10l.94 2.06.94-2.06 2.06-.94-2.06-.94-.94-2.06-.94 2.06-2.06.94z\"/><path d=\"M17.41 7.96l-1.37-1.37c-.4-.4-.92-.59-1.43-.59-.52 0-1.04.2-1.43.59L10.3 9.45l-7.72 7.72c-.78.78-.78 2.05 0 2.83L4 21.41c.39.39.9.59 1.41.59.51 0 1.02-.2 1.41-.59l7.78-7.78 2.81-2.81c.8-.78.8-2.07 0-2.86zM5.41 20L4 18.59l7.72-7.72 1.47 1.35L5.41 20z\"/>\n",
              "  </svg>\n",
              "      </button>\n",
              "      \n",
              "  <style>\n",
              "    .colab-df-container {\n",
              "      display:flex;\n",
              "      flex-wrap:wrap;\n",
              "      gap: 12px;\n",
              "    }\n",
              "\n",
              "    .colab-df-convert {\n",
              "      background-color: #E8F0FE;\n",
              "      border: none;\n",
              "      border-radius: 50%;\n",
              "      cursor: pointer;\n",
              "      display: none;\n",
              "      fill: #1967D2;\n",
              "      height: 32px;\n",
              "      padding: 0 0 0 0;\n",
              "      width: 32px;\n",
              "    }\n",
              "\n",
              "    .colab-df-convert:hover {\n",
              "      background-color: #E2EBFA;\n",
              "      box-shadow: 0px 1px 2px rgba(60, 64, 67, 0.3), 0px 1px 3px 1px rgba(60, 64, 67, 0.15);\n",
              "      fill: #174EA6;\n",
              "    }\n",
              "\n",
              "    [theme=dark] .colab-df-convert {\n",
              "      background-color: #3B4455;\n",
              "      fill: #D2E3FC;\n",
              "    }\n",
              "\n",
              "    [theme=dark] .colab-df-convert:hover {\n",
              "      background-color: #434B5C;\n",
              "      box-shadow: 0px 1px 3px 1px rgba(0, 0, 0, 0.15);\n",
              "      filter: drop-shadow(0px 1px 2px rgba(0, 0, 0, 0.3));\n",
              "      fill: #FFFFFF;\n",
              "    }\n",
              "  </style>\n",
              "\n",
              "      <script>\n",
              "        const buttonEl =\n",
              "          document.querySelector('#df-28ec63b4-6f10-47ff-97b1-5062c1014e63 button.colab-df-convert');\n",
              "        buttonEl.style.display =\n",
              "          google.colab.kernel.accessAllowed ? 'block' : 'none';\n",
              "\n",
              "        async function convertToInteractive(key) {\n",
              "          const element = document.querySelector('#df-28ec63b4-6f10-47ff-97b1-5062c1014e63');\n",
              "          const dataTable =\n",
              "            await google.colab.kernel.invokeFunction('convertToInteractive',\n",
              "                                                     [key], {});\n",
              "          if (!dataTable) return;\n",
              "\n",
              "          const docLinkHtml = 'Like what you see? Visit the ' +\n",
              "            '<a target=\"_blank\" href=https://colab.research.google.com/notebooks/data_table.ipynb>data table notebook</a>'\n",
              "            + ' to learn more about interactive tables.';\n",
              "          element.innerHTML = '';\n",
              "          dataTable['output_type'] = 'display_data';\n",
              "          await google.colab.output.renderOutput(dataTable, element);\n",
              "          const docLink = document.createElement('div');\n",
              "          docLink.innerHTML = docLinkHtml;\n",
              "          element.appendChild(docLink);\n",
              "        }\n",
              "      </script>\n",
              "    </div>\n",
              "  </div>\n",
              "  "
            ]
          },
          "metadata": {},
          "execution_count": 152
        }
      ]
    },
    {
      "cell_type": "code",
      "source": [
        "df['dengue.dengue'] = pd.to_numeric(df['dengue.dengue'])"
      ],
      "metadata": {
        "id": "6m6nxx7Aiiz7"
      },
      "execution_count": 153,
      "outputs": []
    },
    {
      "cell_type": "code",
      "source": [
        "df.isnull()"
      ],
      "metadata": {
        "colab": {
          "base_uri": "https://localhost:8080/",
          "height": 488
        },
        "id": "YGm9M2stjQBT",
        "outputId": "673e56df-e7b6-4341-b014-c3dbf91b46a6"
      },
      "execution_count": 154,
      "outputs": [
        {
          "output_type": "execute_result",
          "data": {
            "text/plain": [
              "     dengue.current_temp  dengue.wbc  dengue.severe_headche  \\\n",
              "0                  False       False                  False   \n",
              "1                  False       False                  False   \n",
              "2                  False       False                  False   \n",
              "3                  False       False                  False   \n",
              "4                  False       False                  False   \n",
              "..                   ...         ...                    ...   \n",
              "103                False       False                  False   \n",
              "104                False       False                  False   \n",
              "105                False       False                  False   \n",
              "106                False       False                  False   \n",
              "107                False       False                  False   \n",
              "\n",
              "     dengue.pain_behind_the_eyes  dengue.joint_muscle_aches  \\\n",
              "0                          False                      False   \n",
              "1                          False                      False   \n",
              "2                          False                      False   \n",
              "3                          False                      False   \n",
              "4                          False                      False   \n",
              "..                           ...                        ...   \n",
              "103                        False                      False   \n",
              "104                        False                      False   \n",
              "105                        False                      False   \n",
              "106                        False                      False   \n",
              "107                        False                      False   \n",
              "\n",
              "     dengue.metallic_taste_in_the_mouth  dengue.appetite_loss  \\\n",
              "0                                 False                 False   \n",
              "1                                 False                 False   \n",
              "2                                 False                 False   \n",
              "3                                 False                 False   \n",
              "4                                 False                 False   \n",
              "..                                  ...                   ...   \n",
              "103                               False                 False   \n",
              "104                               False                 False   \n",
              "105                               False                 False   \n",
              "106                               False                 False   \n",
              "107                               False                 False   \n",
              "\n",
              "     dengue.addominal_pain  dengue.nausea_vomiting  dengue.diarrhoea  \\\n",
              "0                    False                   False             False   \n",
              "1                    False                   False             False   \n",
              "2                    False                   False             False   \n",
              "3                    False                   False             False   \n",
              "4                    False                   False             False   \n",
              "..                     ...                     ...               ...   \n",
              "103                  False                   False             False   \n",
              "104                  False                   False             False   \n",
              "105                  False                   False             False   \n",
              "106                  False                   False             False   \n",
              "107                  False                   False             False   \n",
              "\n",
              "     dengue.hemoglobin  dengue._hematocri  dengue.platelet  dengue.dengue  \n",
              "0                False              False            False          False  \n",
              "1                False              False            False          False  \n",
              "2                False              False            False          False  \n",
              "3                False              False            False          False  \n",
              "4                False              False            False          False  \n",
              "..                 ...                ...              ...            ...  \n",
              "103              False              False            False          False  \n",
              "104              False              False            False          False  \n",
              "105              False              False            False          False  \n",
              "106              False              False            False          False  \n",
              "107              False              False            False          False  \n",
              "\n",
              "[108 rows x 14 columns]"
            ],
            "text/html": [
              "\n",
              "  <div id=\"df-585016e1-4496-4199-bf1a-6e558cc59b0c\">\n",
              "    <div class=\"colab-df-container\">\n",
              "      <div>\n",
              "<style scoped>\n",
              "    .dataframe tbody tr th:only-of-type {\n",
              "        vertical-align: middle;\n",
              "    }\n",
              "\n",
              "    .dataframe tbody tr th {\n",
              "        vertical-align: top;\n",
              "    }\n",
              "\n",
              "    .dataframe thead th {\n",
              "        text-align: right;\n",
              "    }\n",
              "</style>\n",
              "<table border=\"1\" class=\"dataframe\">\n",
              "  <thead>\n",
              "    <tr style=\"text-align: right;\">\n",
              "      <th></th>\n",
              "      <th>dengue.current_temp</th>\n",
              "      <th>dengue.wbc</th>\n",
              "      <th>dengue.severe_headche</th>\n",
              "      <th>dengue.pain_behind_the_eyes</th>\n",
              "      <th>dengue.joint_muscle_aches</th>\n",
              "      <th>dengue.metallic_taste_in_the_mouth</th>\n",
              "      <th>dengue.appetite_loss</th>\n",
              "      <th>dengue.addominal_pain</th>\n",
              "      <th>dengue.nausea_vomiting</th>\n",
              "      <th>dengue.diarrhoea</th>\n",
              "      <th>dengue.hemoglobin</th>\n",
              "      <th>dengue._hematocri</th>\n",
              "      <th>dengue.platelet</th>\n",
              "      <th>dengue.dengue</th>\n",
              "    </tr>\n",
              "  </thead>\n",
              "  <tbody>\n",
              "    <tr>\n",
              "      <th>0</th>\n",
              "      <td>False</td>\n",
              "      <td>False</td>\n",
              "      <td>False</td>\n",
              "      <td>False</td>\n",
              "      <td>False</td>\n",
              "      <td>False</td>\n",
              "      <td>False</td>\n",
              "      <td>False</td>\n",
              "      <td>False</td>\n",
              "      <td>False</td>\n",
              "      <td>False</td>\n",
              "      <td>False</td>\n",
              "      <td>False</td>\n",
              "      <td>False</td>\n",
              "    </tr>\n",
              "    <tr>\n",
              "      <th>1</th>\n",
              "      <td>False</td>\n",
              "      <td>False</td>\n",
              "      <td>False</td>\n",
              "      <td>False</td>\n",
              "      <td>False</td>\n",
              "      <td>False</td>\n",
              "      <td>False</td>\n",
              "      <td>False</td>\n",
              "      <td>False</td>\n",
              "      <td>False</td>\n",
              "      <td>False</td>\n",
              "      <td>False</td>\n",
              "      <td>False</td>\n",
              "      <td>False</td>\n",
              "    </tr>\n",
              "    <tr>\n",
              "      <th>2</th>\n",
              "      <td>False</td>\n",
              "      <td>False</td>\n",
              "      <td>False</td>\n",
              "      <td>False</td>\n",
              "      <td>False</td>\n",
              "      <td>False</td>\n",
              "      <td>False</td>\n",
              "      <td>False</td>\n",
              "      <td>False</td>\n",
              "      <td>False</td>\n",
              "      <td>False</td>\n",
              "      <td>False</td>\n",
              "      <td>False</td>\n",
              "      <td>False</td>\n",
              "    </tr>\n",
              "    <tr>\n",
              "      <th>3</th>\n",
              "      <td>False</td>\n",
              "      <td>False</td>\n",
              "      <td>False</td>\n",
              "      <td>False</td>\n",
              "      <td>False</td>\n",
              "      <td>False</td>\n",
              "      <td>False</td>\n",
              "      <td>False</td>\n",
              "      <td>False</td>\n",
              "      <td>False</td>\n",
              "      <td>False</td>\n",
              "      <td>False</td>\n",
              "      <td>False</td>\n",
              "      <td>False</td>\n",
              "    </tr>\n",
              "    <tr>\n",
              "      <th>4</th>\n",
              "      <td>False</td>\n",
              "      <td>False</td>\n",
              "      <td>False</td>\n",
              "      <td>False</td>\n",
              "      <td>False</td>\n",
              "      <td>False</td>\n",
              "      <td>False</td>\n",
              "      <td>False</td>\n",
              "      <td>False</td>\n",
              "      <td>False</td>\n",
              "      <td>False</td>\n",
              "      <td>False</td>\n",
              "      <td>False</td>\n",
              "      <td>False</td>\n",
              "    </tr>\n",
              "    <tr>\n",
              "      <th>...</th>\n",
              "      <td>...</td>\n",
              "      <td>...</td>\n",
              "      <td>...</td>\n",
              "      <td>...</td>\n",
              "      <td>...</td>\n",
              "      <td>...</td>\n",
              "      <td>...</td>\n",
              "      <td>...</td>\n",
              "      <td>...</td>\n",
              "      <td>...</td>\n",
              "      <td>...</td>\n",
              "      <td>...</td>\n",
              "      <td>...</td>\n",
              "      <td>...</td>\n",
              "    </tr>\n",
              "    <tr>\n",
              "      <th>103</th>\n",
              "      <td>False</td>\n",
              "      <td>False</td>\n",
              "      <td>False</td>\n",
              "      <td>False</td>\n",
              "      <td>False</td>\n",
              "      <td>False</td>\n",
              "      <td>False</td>\n",
              "      <td>False</td>\n",
              "      <td>False</td>\n",
              "      <td>False</td>\n",
              "      <td>False</td>\n",
              "      <td>False</td>\n",
              "      <td>False</td>\n",
              "      <td>False</td>\n",
              "    </tr>\n",
              "    <tr>\n",
              "      <th>104</th>\n",
              "      <td>False</td>\n",
              "      <td>False</td>\n",
              "      <td>False</td>\n",
              "      <td>False</td>\n",
              "      <td>False</td>\n",
              "      <td>False</td>\n",
              "      <td>False</td>\n",
              "      <td>False</td>\n",
              "      <td>False</td>\n",
              "      <td>False</td>\n",
              "      <td>False</td>\n",
              "      <td>False</td>\n",
              "      <td>False</td>\n",
              "      <td>False</td>\n",
              "    </tr>\n",
              "    <tr>\n",
              "      <th>105</th>\n",
              "      <td>False</td>\n",
              "      <td>False</td>\n",
              "      <td>False</td>\n",
              "      <td>False</td>\n",
              "      <td>False</td>\n",
              "      <td>False</td>\n",
              "      <td>False</td>\n",
              "      <td>False</td>\n",
              "      <td>False</td>\n",
              "      <td>False</td>\n",
              "      <td>False</td>\n",
              "      <td>False</td>\n",
              "      <td>False</td>\n",
              "      <td>False</td>\n",
              "    </tr>\n",
              "    <tr>\n",
              "      <th>106</th>\n",
              "      <td>False</td>\n",
              "      <td>False</td>\n",
              "      <td>False</td>\n",
              "      <td>False</td>\n",
              "      <td>False</td>\n",
              "      <td>False</td>\n",
              "      <td>False</td>\n",
              "      <td>False</td>\n",
              "      <td>False</td>\n",
              "      <td>False</td>\n",
              "      <td>False</td>\n",
              "      <td>False</td>\n",
              "      <td>False</td>\n",
              "      <td>False</td>\n",
              "    </tr>\n",
              "    <tr>\n",
              "      <th>107</th>\n",
              "      <td>False</td>\n",
              "      <td>False</td>\n",
              "      <td>False</td>\n",
              "      <td>False</td>\n",
              "      <td>False</td>\n",
              "      <td>False</td>\n",
              "      <td>False</td>\n",
              "      <td>False</td>\n",
              "      <td>False</td>\n",
              "      <td>False</td>\n",
              "      <td>False</td>\n",
              "      <td>False</td>\n",
              "      <td>False</td>\n",
              "      <td>False</td>\n",
              "    </tr>\n",
              "  </tbody>\n",
              "</table>\n",
              "<p>108 rows × 14 columns</p>\n",
              "</div>\n",
              "      <button class=\"colab-df-convert\" onclick=\"convertToInteractive('df-585016e1-4496-4199-bf1a-6e558cc59b0c')\"\n",
              "              title=\"Convert this dataframe to an interactive table.\"\n",
              "              style=\"display:none;\">\n",
              "        \n",
              "  <svg xmlns=\"http://www.w3.org/2000/svg\" height=\"24px\"viewBox=\"0 0 24 24\"\n",
              "       width=\"24px\">\n",
              "    <path d=\"M0 0h24v24H0V0z\" fill=\"none\"/>\n",
              "    <path d=\"M18.56 5.44l.94 2.06.94-2.06 2.06-.94-2.06-.94-.94-2.06-.94 2.06-2.06.94zm-11 1L8.5 8.5l.94-2.06 2.06-.94-2.06-.94L8.5 2.5l-.94 2.06-2.06.94zm10 10l.94 2.06.94-2.06 2.06-.94-2.06-.94-.94-2.06-.94 2.06-2.06.94z\"/><path d=\"M17.41 7.96l-1.37-1.37c-.4-.4-.92-.59-1.43-.59-.52 0-1.04.2-1.43.59L10.3 9.45l-7.72 7.72c-.78.78-.78 2.05 0 2.83L4 21.41c.39.39.9.59 1.41.59.51 0 1.02-.2 1.41-.59l7.78-7.78 2.81-2.81c.8-.78.8-2.07 0-2.86zM5.41 20L4 18.59l7.72-7.72 1.47 1.35L5.41 20z\"/>\n",
              "  </svg>\n",
              "      </button>\n",
              "      \n",
              "  <style>\n",
              "    .colab-df-container {\n",
              "      display:flex;\n",
              "      flex-wrap:wrap;\n",
              "      gap: 12px;\n",
              "    }\n",
              "\n",
              "    .colab-df-convert {\n",
              "      background-color: #E8F0FE;\n",
              "      border: none;\n",
              "      border-radius: 50%;\n",
              "      cursor: pointer;\n",
              "      display: none;\n",
              "      fill: #1967D2;\n",
              "      height: 32px;\n",
              "      padding: 0 0 0 0;\n",
              "      width: 32px;\n",
              "    }\n",
              "\n",
              "    .colab-df-convert:hover {\n",
              "      background-color: #E2EBFA;\n",
              "      box-shadow: 0px 1px 2px rgba(60, 64, 67, 0.3), 0px 1px 3px 1px rgba(60, 64, 67, 0.15);\n",
              "      fill: #174EA6;\n",
              "    }\n",
              "\n",
              "    [theme=dark] .colab-df-convert {\n",
              "      background-color: #3B4455;\n",
              "      fill: #D2E3FC;\n",
              "    }\n",
              "\n",
              "    [theme=dark] .colab-df-convert:hover {\n",
              "      background-color: #434B5C;\n",
              "      box-shadow: 0px 1px 3px 1px rgba(0, 0, 0, 0.15);\n",
              "      filter: drop-shadow(0px 1px 2px rgba(0, 0, 0, 0.3));\n",
              "      fill: #FFFFFF;\n",
              "    }\n",
              "  </style>\n",
              "\n",
              "      <script>\n",
              "        const buttonEl =\n",
              "          document.querySelector('#df-585016e1-4496-4199-bf1a-6e558cc59b0c button.colab-df-convert');\n",
              "        buttonEl.style.display =\n",
              "          google.colab.kernel.accessAllowed ? 'block' : 'none';\n",
              "\n",
              "        async function convertToInteractive(key) {\n",
              "          const element = document.querySelector('#df-585016e1-4496-4199-bf1a-6e558cc59b0c');\n",
              "          const dataTable =\n",
              "            await google.colab.kernel.invokeFunction('convertToInteractive',\n",
              "                                                     [key], {});\n",
              "          if (!dataTable) return;\n",
              "\n",
              "          const docLinkHtml = 'Like what you see? Visit the ' +\n",
              "            '<a target=\"_blank\" href=https://colab.research.google.com/notebooks/data_table.ipynb>data table notebook</a>'\n",
              "            + ' to learn more about interactive tables.';\n",
              "          element.innerHTML = '';\n",
              "          dataTable['output_type'] = 'display_data';\n",
              "          await google.colab.output.renderOutput(dataTable, element);\n",
              "          const docLink = document.createElement('div');\n",
              "          docLink.innerHTML = docLinkHtml;\n",
              "          element.appendChild(docLink);\n",
              "        }\n",
              "      </script>\n",
              "    </div>\n",
              "  </div>\n",
              "  "
            ]
          },
          "metadata": {},
          "execution_count": 154
        }
      ]
    },
    {
      "cell_type": "code",
      "source": [
        "df.isnull().any()"
      ],
      "metadata": {
        "colab": {
          "base_uri": "https://localhost:8080/"
        },
        "id": "8Oep5ui2jS7-",
        "outputId": "462f1304-39e2-412d-a95f-3d723cdfe48f"
      },
      "execution_count": 155,
      "outputs": [
        {
          "output_type": "execute_result",
          "data": {
            "text/plain": [
              "dengue.current_temp                   False\n",
              "dengue.wbc                            False\n",
              "dengue.severe_headche                 False\n",
              "dengue.pain_behind_the_eyes           False\n",
              "dengue.joint_muscle_aches             False\n",
              "dengue.metallic_taste_in_the_mouth    False\n",
              "dengue.appetite_loss                  False\n",
              "dengue.addominal_pain                 False\n",
              "dengue.nausea_vomiting                False\n",
              "dengue.diarrhoea                      False\n",
              "dengue.hemoglobin                     False\n",
              "dengue._hematocri                     False\n",
              "dengue.platelet                       False\n",
              "dengue.dengue                         False\n",
              "dtype: bool"
            ]
          },
          "metadata": {},
          "execution_count": 155
        }
      ]
    },
    {
      "cell_type": "code",
      "source": [
        "df.isnull().sum()"
      ],
      "metadata": {
        "colab": {
          "base_uri": "https://localhost:8080/"
        },
        "id": "bnNeio72jfQQ",
        "outputId": "b9ab01cc-ef45-4099-ff86-6e712b95bba5"
      },
      "execution_count": 156,
      "outputs": [
        {
          "output_type": "execute_result",
          "data": {
            "text/plain": [
              "dengue.current_temp                   0\n",
              "dengue.wbc                            0\n",
              "dengue.severe_headche                 0\n",
              "dengue.pain_behind_the_eyes           0\n",
              "dengue.joint_muscle_aches             0\n",
              "dengue.metallic_taste_in_the_mouth    0\n",
              "dengue.appetite_loss                  0\n",
              "dengue.addominal_pain                 0\n",
              "dengue.nausea_vomiting                0\n",
              "dengue.diarrhoea                      0\n",
              "dengue.hemoglobin                     0\n",
              "dengue._hematocri                     0\n",
              "dengue.platelet                       0\n",
              "dengue.dengue                         0\n",
              "dtype: int64"
            ]
          },
          "metadata": {},
          "execution_count": 156
        }
      ]
    },
    {
      "cell_type": "code",
      "source": [
        "import seaborn as sns\n",
        "sns.heatmap(df.isnull())"
      ],
      "metadata": {
        "colab": {
          "base_uri": "https://localhost:8080/",
          "height": 460
        },
        "id": "FnnlVlZejpve",
        "outputId": "d02098cf-674d-4ba3-e14e-a1ae539e34ab"
      },
      "execution_count": 157,
      "outputs": [
        {
          "output_type": "execute_result",
          "data": {
            "text/plain": [
              "<matplotlib.axes._subplots.AxesSubplot at 0x7f7916b9c190>"
            ]
          },
          "metadata": {},
          "execution_count": 157
        },
        {
          "output_type": "display_data",
          "data": {
            "text/plain": [
              "<Figure size 432x288 with 2 Axes>"
            ],
            "image/png": "[encoded data removed]"
          },
          "metadata": {
            "needs_background": "light"
          }
        }
      ]
    },
    {
      "cell_type": "code",
      "source": [
        "plt.figure(figsize=(10,5))\n",
        "sns.countplot(x='dengue.current_temp',data=df)"
      ],
      "metadata": {
        "colab": {
          "base_uri": "https://localhost:8080/",
          "height": 352
        },
        "id": "w4BsmvE-jvSl",
        "outputId": "17566516-7f9e-4e43-a4e2-475dc0e0082b"
      },
      "execution_count": 158,
      "outputs": [
        {
          "output_type": "execute_result",
          "data": {
            "text/plain": [
              "<matplotlib.axes._subplots.AxesSubplot at 0x7f7916b9c810>"
            ]
          },
          "metadata": {},
          "execution_count": 158
        },
        {
          "output_type": "display_data",
          "data": {
            "text/plain": [
              "<Figure size 720x360 with 1 Axes>"
            ],
            "image/png": "[encoded data removed]"
          },
          "metadata": {
            "needs_background": "light"
          }
        }
      ]
    },
    {
      "cell_type": "code",
      "source": [
        "plt.figure(figsize=(10,5))\n",
        "sns.countplot(x='dengue.severe_headche',data = df)"
      ],
      "metadata": {
        "colab": {
          "base_uri": "https://localhost:8080/",
          "height": 352
        },
        "id": "s3-gnRCUj_2N",
        "outputId": "c37e2e0d-2cb4-46bf-f680-72c11dde7fe0"
      },
      "execution_count": 159,
      "outputs": [
        {
          "output_type": "execute_result",
          "data": {
            "text/plain": [
              "<matplotlib.axes._subplots.AxesSubplot at 0x7f7916ba4810>"
            ]
          },
          "metadata": {},
          "execution_count": 159
        },
        {
          "output_type": "display_data",
          "data": {
            "text/plain": [
              "<Figure size 720x360 with 1 Axes>"
            ],
            "image/png": "[encoded data removed]"
          },
          "metadata": {
            "needs_background": "light"
          }
        }
      ]
    },
    {
      "cell_type": "code",
      "source": [
        "plt.figure(figsize=(10,5))\n",
        "sns.boxplot(x='dengue.pain_behind_the_eyes',y='dengue.joint_muscle_aches',data = df)"
      ],
      "metadata": {
        "colab": {
          "base_uri": "https://localhost:8080/",
          "height": 352
        },
        "id": "oBVO-79zj0EV",
        "outputId": "8918a557-1cfb-45ee-d7db-cc5a8c96bea1"
      },
      "execution_count": 160,
      "outputs": [
        {
          "output_type": "execute_result",
          "data": {
            "text/plain": [
              "<matplotlib.axes._subplots.AxesSubplot at 0x7f7916bcc490>"
            ]
          },
          "metadata": {},
          "execution_count": 160
        },
        {
          "output_type": "display_data",
          "data": {
            "text/plain": [
              "<Figure size 720x360 with 1 Axes>"
            ],
            "image/png": "[encoded data removed]"
          },
          "metadata": {
            "needs_background": "light"
          }
        }
      ]
    },
    {
      "cell_type": "code",
      "source": [
        "from sklearn.model_selection import train_test_split\n",
        "from sklearn.metrics import accuracy_score, confusion_matrix\n",
        "from sklearn.metrics import log_loss, f1_score\n",
        "from sklearn.model_selection import cross_val_score\n",
        "import numpy as np \n",
        "acc_dict = {}\n",
        "# create the data\n",
        "X = df.drop('dengue.dengue',axis = 1)\n",
        "y = df['dengue.dengue']\n",
        "X_train, X_test, y_train, y_test = train_test_split(X,y)"
      ],
      "metadata": {
        "id": "2eh8orCQkrYT"
      },
      "execution_count": 161,
      "outputs": []
    },
    {
      "cell_type": "code",
      "source": [
        "from sklearn.ensemble import  RandomForestClassifier\n",
        "# create model\n",
        "model = RandomForestClassifier()\n",
        "\n",
        "# fit the data in the model\n",
        "model.fit(X_train,y_train)\n",
        "\n",
        "y_pred_randomF = model.predict(X_test)\n",
        "print('Accuracy score : ',accuracy_score(y_test, y_pred_randomF)*100)\n",
        "\n",
        "acc_dict['RFC_log_loss'] = log_loss(y_test, y_pred_randomF)\n",
        "acc_dict['RFC_F!1_Score'] = f1_score(y_test, y_pred_randomF,average='weighted')\n",
        "# prediction visualization\n",
        "plt.imshow(np.log(confusion_matrix(y_test,y_pred_randomF)),cmap = 'Blues',interpolation = 'nearest')\n",
        "plt.ylabel('True')\n",
        "plt.xlabel('Predicted')\n",
        "plt.show()"
      ],
      "metadata": {
        "colab": {
          "base_uri": "https://localhost:8080/",
          "height": 370
        },
        "id": "2vs7oRjTk-0w",
        "outputId": "dcbd48a4-b97a-4f50-ea08-daf98c88a036"
      },
      "execution_count": 162,
      "outputs": [
        {
          "output_type": "stream",
          "name": "stdout",
          "text": [
            "Accuracy score :  100.0\n"
          ]
        },
        {
          "output_type": "stream",
          "name": "stderr",
          "text": [
            "/usr/local/lib/python3.7/dist-packages/ipykernel_launcher.py:14: RuntimeWarning:\n",
            "\n",
            "divide by zero encountered in log\n",
            "\n"
          ]
        },
        {
          "output_type": "display_data",
          "data": {
            "text/plain": [
              "<Figure size 432x288 with 1 Axes>"
            ],
            "image/png": "[encoded data removed]"
          },
          "metadata": {
            "needs_background": "light"
          }
        }
      ]
    },
    {
      "cell_type": "code",
      "source": [
        "1# Pickle model\n",
        "pd.to_pickle(model,r'new_model.pickle')\n",
        "\n",
        "# Unpickle model\n",
        "model = pd.read_pickle(r'new_model.pickle')\n",
        "\n",
        "# Take input from user\n",
        "dengue_current_temp = int(input(\"Enter current temperature: \"))\n",
        "dengue_metallic_taste_in_the_mouth = int(input(\"metallic taste in mouth: \"))\n",
        "dengue_addominal_pain = int(input(\"addominal pain: \"))\n",
        "dengue_nausea_vomiting = int(input(\"Enter nausea vomiting: \"))\n",
        "dengue_severe_headche = int(input(\"Enter severe headche: \"))\n",
        "dengue_joint_muscle_aches = int(input(\"Enter joint muscle aches: \"))\n",
        "\n",
        "dengue_wbc = int(input(\"Enter wbc: \"))\n",
        "dengue_pain_behind_the_eyes\t = int(input(\"pain behind the eyes: \"))\n",
        "dengue_appetite_loss = int(input(\"Enter appetite loss: \"))\n",
        "dengue_diarrhoea  = int(input(\"Enter diarrhoea: \"))\n",
        "dengue_hemoglobin  = int(input(\"Enter hemoglobin: \"))\n",
        "dengue_hematocri  = int(input(\"Enter hematrocri: \"))\n",
        "dengue_platelet  = int(input(\"platelet: \"))\n",
        "\n",
        "result = model.predict([[dengue_current_temp,dengue_metallic_taste_in_the_mouth,dengue_addominal_pain,dengue_nausea_vomiting, dengue_severe_headche,dengue_joint_muscle_aches,dengue_wbc,dengue_pain_behind_the_eyes,dengue_appetite_loss,dengue_diarrhoea,dengue_hemoglobin,dengue_hematocri,dengue_platelet]])  # input must be 2D array\n",
        "print(result)"
      ],
      "metadata": {
        "colab": {
          "base_uri": "https://localhost:8080/"
        },
        "id": "sYMaWsfZpDLu",
        "outputId": "b4d2043e-0b46-49c3-dd8d-9bbe38ff5aeb"
      },
      "execution_count": 163,
      "outputs": [
        {
          "output_type": "stream",
          "name": "stdout",
          "text": [
            "Enter current temperature: 100\n",
            "metallic taste in mouth: 1\n",
            "addominal pain: 1\n",
            "Enter nausea vomiting: 1\n",
            "Enter severe headche: 1\n",
            "Enter joint muscle aches: 1\n",
            "Enter wbc: 0\n",
            "pain behind the eyes: 1\n",
            "Enter appetite loss: 1\n",
            "Enter diarrhoea: 1\n",
            "Enter hemoglobin: 0\n",
            "Enter hematrocri: 0\n",
            "platelet: 0\n",
            "[1]\n"
          ]
        },
        {
          "output_type": "stream",
          "name": "stderr",
          "text": [
            "/usr/local/lib/python3.7/dist-packages/sklearn/base.py:451: UserWarning:\n",
            "\n",
            "X does not have valid feature names, but RandomForestClassifier was fitted with feature names\n",
            "\n"
          ]
        }
      ]
    },
    {
      "cell_type": "code",
      "source": [
        "from sklearn.neighbors import KNeighborsClassifier\n",
        "# to find the best k \n",
        "score = 0\n",
        "scores, highscore, bestk = 0, 0, 0\n",
        "\n",
        "for k in range(3,12):\n",
        "    knn = KNeighborsClassifier(n_neighbors=k)\n",
        "    scores = cross_val_score(knn, X_train, y_train)\n",
        "    score = scores.mean()\n",
        "    if score>highscore:\n",
        "        highscore = score\n",
        "        bestk = k\n",
        "print('Best k is {} with score {}'.format(bestk, highscore))\n",
        "\n",
        "knn = KNeighborsClassifier(n_neighbors=bestk)\n",
        "knn.fit(X_train,y_train)\n",
        "# prediction \n",
        "y_predict = knn.predict(X_test)\n",
        "print('Accuracy score : ',accuracy_score(y_test,y_predict)*100)\n",
        "acc_dict['KNN_log_loss'] = log_loss(y_test, y_predict)\n",
        "acc_dict['KNN_F!1_Score'] = f1_score(y_test, y_predict,average='weighted')\n",
        "\n",
        "# prediction visualization\n",
        "plt.imshow(np.log(confusion_matrix(y_test,y_predict)),cmap = 'Blues',interpolation = 'nearest')\n",
        "plt.ylabel('True')\n",
        "plt.xlabel('Predicted')\n",
        "plt.show()"
      ],
      "metadata": {
        "colab": {
          "base_uri": "https://localhost:8080/",
          "height": 387
        },
        "id": "1TTzvzwOupy9",
        "outputId": "dc60e892-264c-4e5c-c3e6-0a278fb6b69a"
      },
      "execution_count": 164,
      "outputs": [
        {
          "output_type": "stream",
          "name": "stdout",
          "text": [
            "Best k is 3 with score 0.9875\n",
            "Accuracy score :  100.0\n"
          ]
        },
        {
          "output_type": "stream",
          "name": "stderr",
          "text": [
            "/usr/local/lib/python3.7/dist-packages/ipykernel_launcher.py:24: RuntimeWarning:\n",
            "\n",
            "divide by zero encountered in log\n",
            "\n"
          ]
        },
        {
          "output_type": "display_data",
          "data": {
            "text/plain": [
              "<Figure size 432x288 with 1 Axes>"
            ],
            "image/png": "[encoded data removed]"
          },
          "metadata": {
            "needs_background": "light"
          }
        }
      ]
    },
    {
      "cell_type": "code",
      "source": [
        "from sklearn.cluster import KMeans\n",
        "clf = KMeans()\n",
        "clf.fit(X_train)\n",
        "maxx = clf.predict(X_test)\n",
        "print('Accuracy score : ',accuracy_score(y_test,maxx)*100)\n",
        "acc_dict['kMeans_log_loss'] = log_loss(y_test, maxx)\n",
        "acc_dict['kMeans_F1_Score'] = f1_score(y_test, maxx,average='weighted')\n",
        "\n",
        "plt.imshow(np.log(confusion_matrix(y_test,maxx)),cmap='Reds', interpolation = 'nearest')\n",
        "plt.ylabel('True')\n",
        "plt.xlabel('Predicted')\n",
        "\n",
        "plt.show()"
      ],
      "metadata": {
        "colab": {
          "base_uri": "https://localhost:8080/",
          "height": 366
        },
        "id": "JpQdUmjxushm",
        "outputId": "356ab891-fcfe-42b0-ecc1-a0d33602eecc"
      },
      "execution_count": 165,
      "outputs": [
        {
          "output_type": "stream",
          "name": "stderr",
          "text": [
            "/usr/local/lib/python3.7/dist-packages/ipykernel_launcher.py:9: RuntimeWarning:\n",
            "\n",
            "divide by zero encountered in log\n",
            "\n"
          ]
        },
        {
          "output_type": "stream",
          "name": "stdout",
          "text": [
            "Accuracy score :  11.11111111111111\n"
          ]
        },
        {
          "output_type": "display_data",
          "data": {
            "text/plain": [
              "<Figure size 432x288 with 1 Axes>"
            ],
            "image/png": "[encoded data removed]"
          },
          "metadata": {
            "needs_background": "light"
          }
        }
      ]
    },
    {
      "cell_type": "code",
      "source": [
        "from sklearn.tree import DecisionTreeClassifier\n",
        "tree_ = DecisionTreeClassifier()\n",
        "tree_.fit(X_train,y_train)\n",
        "y_pred = tree_.predict(X_test)\n",
        "print('Accuracy score : ',accuracy_score(y_test, y_pred)*100)\n",
        "acc_dict['Tree_log_loss'] = log_loss(y_test,y_pred)\n",
        "acc_dict['Tree_f!1_score'] = f1_score(y_test,y_pred)\n",
        "\n",
        "# prediction visualization\n",
        "plt.imshow(np.log(confusion_matrix(y_test,y_pred)),cmap = 'Blues',interpolation = 'nearest')\n",
        "plt.ylabel('True')\n",
        "plt.xlabel('Predicted')\n",
        "plt.show()"
      ],
      "metadata": {
        "colab": {
          "base_uri": "https://localhost:8080/",
          "height": 370
        },
        "id": "VdfgALY5u73G",
        "outputId": "7ced81db-3bef-4f8b-e393-2e3eeb2c0b28"
      },
      "execution_count": 166,
      "outputs": [
        {
          "output_type": "stream",
          "name": "stdout",
          "text": [
            "Accuracy score :  100.0\n"
          ]
        },
        {
          "output_type": "stream",
          "name": "stderr",
          "text": [
            "/usr/local/lib/python3.7/dist-packages/ipykernel_launcher.py:10: RuntimeWarning:\n",
            "\n",
            "divide by zero encountered in log\n",
            "\n"
          ]
        },
        {
          "output_type": "display_data",
          "data": {
            "text/plain": [
              "<Figure size 432x288 with 1 Axes>"
            ],
            "image/png": "[encoded data removed]"
          },
          "metadata": {
            "needs_background": "light"
          }
        }
      ]
    },
    {
      "cell_type": "code",
      "source": [
        "from sklearn.svm import SVC\n",
        "model = SVC()\n",
        "model.fit(X_train, y_train)\n",
        "y_pred = model.predict(X_test)\n",
        "print('Accuracy score : ',accuracy_score(y_test, y_pred)*100)\n",
        "acc_dict['svc_log_loss'] = log_loss(y_test,y_pred)\n",
        "acc_dict['svc_f!1_score'] = f1_score(y_test,y_pred)\n",
        "# prediction visualization\n",
        "plt.imshow(np.log(confusion_matrix(y_test,y_pred)),cmap = 'Blues',interpolation = 'nearest')\n",
        "plt.ylabel('True')\n",
        "plt.xlabel('Predicted')\n",
        "plt.show()"
      ],
      "metadata": {
        "colab": {
          "base_uri": "https://localhost:8080/",
          "height": 370
        },
        "id": "y2eMF4zgu882",
        "outputId": "9ff8c449-3668-4511-ba05-207fffd2aa70"
      },
      "execution_count": 167,
      "outputs": [
        {
          "output_type": "stream",
          "name": "stdout",
          "text": [
            "Accuracy score :  81.48148148148148\n"
          ]
        },
        {
          "output_type": "stream",
          "name": "stderr",
          "text": [
            "/usr/local/lib/python3.7/dist-packages/ipykernel_launcher.py:9: RuntimeWarning:\n",
            "\n",
            "divide by zero encountered in log\n",
            "\n"
          ]
        },
        {
          "output_type": "display_data",
          "data": {
            "text/plain": [
              "<Figure size 432x288 with 1 Axes>"
            ],
            "image/png": "[encoded data removed]"
          },
          "metadata": {
            "needs_background": "light"
          }
        }
      ]
    }
  ]
}